{
 "cells": [
  {
   "cell_type": "code",
   "execution_count": 21,
   "metadata": {},
   "outputs": [],
   "source": [
    "import requests\n",
    "\n",
    "odds_api_atlas3480 = \"636d5691d8f7230cc460a506e190314c\"\n",
    "\n",
    "api_key = odds_api_atlas3480\n",
    "regions = 'us'\n",
    "markets = 'h2h'\n",
    "oddsFormat = 'american'\n",
    "league = ''\n",
    "\n",
    "\n",
    "region_str = f\"{f'&regions={regions}' if regions != '' else ''}\"\n",
    "market_str = f\"{f'&markets={markets}' if markets != '' else ''}\"\n",
    "\n",
    "url_odds_api = f\"https://api.the-odds-api.com/v4/sports/americanfootball_nfl/odds?apiKey={api_key}{region_str}&markets=h2h&oddsFormat=american\"\n",
    "\n",
    "\n",
    "data = requests.get(url_odds_api)"
   ]
  },
  {
   "cell_type": "code",
   "execution_count": 22,
   "metadata": {},
   "outputs": [],
   "source": [
    "\n",
    "data_js = data.json()\n"
   ]
  },
  {
   "cell_type": "code",
   "execution_count": 23,
   "metadata": {},
   "outputs": [],
   "source": [
    "import json\n",
    "\n",
    "\n",
    "with open(\"odds.json\",\"w\") as file:\n",
    "    json.dump(data_js,file)"
   ]
  },
  {
   "cell_type": "code",
   "execution_count": 24,
   "metadata": {},
   "outputs": [
    {
     "data": {
      "text/plain": [
       "32"
      ]
     },
     "execution_count": 24,
     "metadata": {},
     "output_type": "execute_result"
    }
   ],
   "source": [
    "len(data_js)"
   ]
  },
  {
   "cell_type": "code",
   "execution_count": 25,
   "metadata": {},
   "outputs": [
    {
     "data": {
      "text/plain": [
       "{'id': 'ff0f310a02a527f105b5b37dbd61c502',\n",
       " 'sport_key': 'americanfootball_nfl',\n",
       " 'sport_title': 'NFL',\n",
       " 'commence_time': '2024-09-20T00:15:00Z',\n",
       " 'home_team': 'New York Jets',\n",
       " 'away_team': 'New England Patriots',\n",
       " 'bookmakers': [{'key': 'draftkings',\n",
       "   'title': 'DraftKings',\n",
       "   'last_update': '2024-09-18T06:43:46Z',\n",
       "   'markets': [{'key': 'h2h',\n",
       "     'last_update': '2024-09-18T06:43:46Z',\n",
       "     'outcomes': [{'name': 'New England Patriots', 'price': 225},\n",
       "      {'name': 'New York Jets', 'price': -278}]}]},\n",
       "  {'key': 'williamhill_us',\n",
       "   'title': 'Caesars',\n",
       "   'last_update': '2024-09-18T06:44:15Z',\n",
       "   'markets': [{'key': 'h2h',\n",
       "     'last_update': '2024-09-18T06:44:15Z',\n",
       "     'outcomes': [{'name': 'New England Patriots', 'price': 222},\n",
       "      {'name': 'New York Jets', 'price': -278}]}]},\n",
       "  {'key': 'fanduel',\n",
       "   'title': 'FanDuel',\n",
       "   'last_update': '2024-09-18T06:43:46Z',\n",
       "   'markets': [{'key': 'h2h',\n",
       "     'last_update': '2024-09-18T06:43:46Z',\n",
       "     'outcomes': [{'name': 'New England Patriots', 'price': 225},\n",
       "      {'name': 'New York Jets', 'price': -275}]}]},\n",
       "  {'key': 'betrivers',\n",
       "   'title': 'BetRivers',\n",
       "   'last_update': '2024-09-18T06:43:46Z',\n",
       "   'markets': [{'key': 'h2h',\n",
       "     'last_update': '2024-09-18T06:43:46Z',\n",
       "     'outcomes': [{'name': 'New England Patriots', 'price': 230},\n",
       "      {'name': 'New York Jets', 'price': -286}]}]},\n",
       "  {'key': 'betonlineag',\n",
       "   'title': 'BetOnline.ag',\n",
       "   'last_update': '2024-09-18T06:43:46Z',\n",
       "   'markets': [{'key': 'h2h',\n",
       "     'last_update': '2024-09-18T06:43:46Z',\n",
       "     'outcomes': [{'name': 'New England Patriots', 'price': 230},\n",
       "      {'name': 'New York Jets', 'price': -275}]}]},\n",
       "  {'key': 'lowvig',\n",
       "   'title': 'LowVig.ag',\n",
       "   'last_update': '2024-09-18T06:43:46Z',\n",
       "   'markets': [{'key': 'h2h',\n",
       "     'last_update': '2024-09-18T06:43:46Z',\n",
       "     'outcomes': [{'name': 'New England Patriots', 'price': 230},\n",
       "      {'name': 'New York Jets', 'price': -275}]}]},\n",
       "  {'key': 'betmgm',\n",
       "   'title': 'BetMGM',\n",
       "   'last_update': '2024-09-18T06:43:46Z',\n",
       "   'markets': [{'key': 'h2h',\n",
       "     'last_update': '2024-09-18T06:43:46Z',\n",
       "     'outcomes': [{'name': 'New England Patriots', 'price': 220},\n",
       "      {'name': 'New York Jets', 'price': -275}]}]},\n",
       "  {'key': 'betus',\n",
       "   'title': 'BetUS',\n",
       "   'last_update': '2024-09-18T06:43:47Z',\n",
       "   'markets': [{'key': 'h2h',\n",
       "     'last_update': '2024-09-18T06:43:47Z',\n",
       "     'outcomes': [{'name': 'New England Patriots', 'price': 225},\n",
       "      {'name': 'New York Jets', 'price': -270}]}]},\n",
       "  {'key': 'bovada',\n",
       "   'title': 'Bovada',\n",
       "   'last_update': '2024-09-18T06:43:46Z',\n",
       "   'markets': [{'key': 'h2h',\n",
       "     'last_update': '2024-09-18T06:43:46Z',\n",
       "     'outcomes': [{'name': 'New England Patriots', 'price': 230},\n",
       "      {'name': 'New York Jets', 'price': -280}]}]}]}"
      ]
     },
     "execution_count": 25,
     "metadata": {},
     "output_type": "execute_result"
    }
   ],
   "source": [
    "data_js[0]"
   ]
  },
  {
   "cell_type": "code",
   "execution_count": null,
   "metadata": {},
   "outputs": [],
   "source": []
  }
 ],
 "metadata": {
  "kernelspec": {
   "display_name": "Python 3",
   "language": "python",
   "name": "python3"
  },
  "language_info": {
   "codemirror_mode": {
    "name": "ipython",
    "version": 3
   },
   "file_extension": ".py",
   "mimetype": "text/x-python",
   "name": "python",
   "nbconvert_exporter": "python",
   "pygments_lexer": "ipython3",
   "version": "3.10.12"
  }
 },
 "nbformat": 4,
 "nbformat_minor": 2
}
