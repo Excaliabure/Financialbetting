{
 "cells": [
  {
   "cell_type": "code",
   "execution_count": 1,
   "id": "dfdfd053",
   "metadata": {},
   "outputs": [
    {
     "data": {
      "text/plain": [
       "'cuda'"
      ]
     },
     "execution_count": 1,
     "metadata": {},
     "output_type": "execute_result"
    }
   ],
   "source": [
    "from forex import *\n",
    "import torch\n",
    "import gymnasium as gym\n",
    "import matplotlib\n",
    "import matplotlib.pyplot as plt\n",
    "from collections import namedtuple, deque\n",
    "import random\n",
    "import pandas as pd\n",
    "import torch.nn.functional as F\n",
    "import math\n",
    "from envs import Market\n",
    "from tqdm import tqdm\n",
    "from itertools import count\n",
    "\n",
    "is_ipython = 'inline' in matplotlib.get_backend()\n",
    "if is_ipython:\n",
    "    from IPython import display\n",
    "plt.ion()\n",
    "\n",
    "device = \"cuda\" if torch.cuda.is_available() else \"cpu\"\n",
    "# device = \"cpu\"\n",
    "device\n"
   ]
  },
  {
   "cell_type": "code",
   "execution_count": 2,
   "id": "7af7cf28",
   "metadata": {},
   "outputs": [],
   "source": [
    "Transition = namedtuple('Transition', \n",
    "                        ('state','action','next_state','reward'))\n",
    "class ReplayMemory(object):\n",
    "\n",
    "    def __init__(self, capacity):\n",
    "        self.memory = deque([], maxlen=capacity)\n",
    "\n",
    "    def push(self, *args):\n",
    "        \"\"\"Save a transition\"\"\"\n",
    "        self.memory.append(Transition(*args))\n",
    "\n",
    "    def sample(self, batch_size):\n",
    "        return random.sample(self.memory, batch_size)\n",
    "\n",
    "    def __len__(self):\n",
    "        return len(self.memory)"
   ]
  },
  {
   "cell_type": "code",
   "execution_count": 3,
   "id": "fb13a852",
   "metadata": {},
   "outputs": [],
   "source": [
    "env = Market(\"EURUSD\",\"min\",add_sentiment = True)\n",
    "# state, reward, done, info\n",
    "# array, float, bool, dict\n",
    "\n",
    "BATCH_SIZE = 64\n",
    "GAMMA = 0.2\n",
    "EPS_START = 0.9\n",
    "EPS_END = 0.05\n",
    "EPS_DECAY = 10000\n",
    "TAU = 0.05\n",
    "LR = 1e-2\n",
    "\n",
    "def optimize_model():\n",
    "    if len(memory) < BATCH_SIZE:\n",
    "        return\n",
    "    transitions = memory.sample(BATCH_SIZE)\n",
    "    batch = Transition(*zip(*transitions))\n",
    "\n",
    "    non_final_mask = torch.tensor(tuple(map(lambda s: s is not None,\n",
    "                                          batch.next_state)), device=device, dtype=torch.bool)\n",
    "    non_final_next_states = torch.cat([s for s in batch.next_state\n",
    "                                                if s is not None])\n",
    "    state_batch = torch.cat(batch.state)\n",
    "    action_batch = torch.cat(batch.action)\n",
    "    reward_batch = torch.cat(batch.reward)\n",
    "\n",
    "    state_action_values = policy_net(state_batch).gather(1, action_batch)\n",
    "\n",
    "    next_state_values = torch.zeros(BATCH_SIZE, device=device)\n",
    "    with torch.no_grad():\n",
    "        next_state_values[non_final_mask] = target_net(non_final_next_states).max(1)[0]\n",
    "\n",
    "    expected_state_action_values = (next_state_values * GAMMA) + reward_batch\n",
    "\n",
    "    #   Knows\n",
    "    # -----------------------------\n",
    "    loss_fn = nn.SmoothL1Loss()\n",
    "    loss = loss_fn(state_action_values, expected_state_action_values.unsqueeze(1))\n",
    "\n",
    "    # Optimize the model\n",
    "    optimizer.zero_grad()\n",
    "    loss.backward()\n",
    "    # In-place gradient clipping\n",
    "    torch.nn.utils.clip_grad_value_(policy_net.parameters(), 100)\n",
    "    optimizer.step()\n",
    "\n",
    "\n",
    "def select_action(state):\n",
    "    global steps_done\n",
    "    sample = random.random()\n",
    "    eps_threshold = EPS_END + (EPS_START - EPS_END) * \\\n",
    "        math.exp(-1 * steps_done / EPS_DECAY)\n",
    "    steps_done += 1\n",
    "    if sample > eps_threshold:\n",
    "        with torch.no_grad():\n",
    "                # Picks action with highest expected reward\n",
    "            return policy_net(torch.tensor(state.detach().clone()).type(torch.float)).detach().clone().max(1)[1].view(1, 1)\n",
    "    else:\n",
    "        return torch.tensor([[env.action_space.sample()]], device=device, dtype=torch.long)"
   ]
  },
  {
   "cell_type": "code",
   "execution_count": 4,
   "id": "992a75a6",
   "metadata": {},
   "outputs": [
    {
     "name": "stderr",
     "output_type": "stream",
     "text": [
      "  0%|          | 0/4000 [00:00<?, ?it/s]"
     ]
    },
    {
     "name": "stderr",
     "output_type": "stream",
     "text": [
      "/tmp/ipykernel_3257/1974816204.py:57: UserWarning: To copy construct from a tensor, it is recommended to use sourceTensor.clone().detach() or sourceTensor.clone().detach().requires_grad_(True), rather than torch.tensor(sourceTensor).\n",
      "  return policy_net(torch.tensor(state.detach().clone()).type(torch.float)).detach().clone().max(1)[1].view(1, 1)\n",
      "  5%|▍         | 181/4000 [2:48:29<59:14:57, 55.85s/it]  \n"
     ]
    },
    {
     "ename": "KeyboardInterrupt",
     "evalue": "",
     "output_type": "error",
     "traceback": [
      "\u001b[0;31m---------------------------------------------------------------------------\u001b[0m",
      "\u001b[0;31mKeyboardInterrupt\u001b[0m                         Traceback (most recent call last)",
      "\u001b[1;32m/home/kl/mycode/GitHub/Uwu/Forex/main_forex_RL.ipynb Cell 4\u001b[0m line \u001b[0;36m1\n\u001b[1;32m     <a href='vscode-notebook-cell://ssh-remote%2B169.236.95.202/home/kl/mycode/GitHub/Uwu/Forex/main_forex_RL.ipynb#W3sdnNjb2RlLXJlbW90ZQ%3D%3D?line=97'>98</a>\u001b[0m \u001b[39mfor\u001b[39;00m key \u001b[39min\u001b[39;00m policy_net_state_dict:\n\u001b[1;32m     <a href='vscode-notebook-cell://ssh-remote%2B169.236.95.202/home/kl/mycode/GitHub/Uwu/Forex/main_forex_RL.ipynb#W3sdnNjb2RlLXJlbW90ZQ%3D%3D?line=98'>99</a>\u001b[0m     target_net_state_dict[key] \u001b[39m=\u001b[39m policy_net_state_dict[key] \u001b[39m*\u001b[39m TAU \u001b[39m+\u001b[39m target_net_state_dict[key] \u001b[39m*\u001b[39m (\u001b[39m1\u001b[39m \u001b[39m-\u001b[39m TAU)\n\u001b[0;32m--> <a href='vscode-notebook-cell://ssh-remote%2B169.236.95.202/home/kl/mycode/GitHub/Uwu/Forex/main_forex_RL.ipynb#W3sdnNjb2RlLXJlbW90ZQ%3D%3D?line=99'>100</a>\u001b[0m target_net\u001b[39m.\u001b[39;49mload_state_dict(target_net_state_dict)\n\u001b[1;32m    <a href='vscode-notebook-cell://ssh-remote%2B169.236.95.202/home/kl/mycode/GitHub/Uwu/Forex/main_forex_RL.ipynb#W3sdnNjb2RlLXJlbW90ZQ%3D%3D?line=101'>102</a>\u001b[0m \u001b[39mif\u001b[39;00m done:\n\u001b[1;32m    <a href='vscode-notebook-cell://ssh-remote%2B169.236.95.202/home/kl/mycode/GitHub/Uwu/Forex/main_forex_RL.ipynb#W3sdnNjb2RlLXJlbW90ZQ%3D%3D?line=102'>103</a>\u001b[0m     episode_durations\u001b[39m.\u001b[39mappend(start_idx \u001b[39m-\u001b[39m env\u001b[39m.\u001b[39midx \u001b[39m+\u001b[39m \u001b[39m1\u001b[39m)\n",
      "File \u001b[0;32m~/anaconda3/lib/python3.11/site-packages/torch/nn/modules/module.py:2138\u001b[0m, in \u001b[0;36mModule.load_state_dict\u001b[0;34m(self, state_dict, strict, assign)\u001b[0m\n\u001b[1;32m   2131\u001b[0m         out \u001b[39m=\u001b[39m hook(module, incompatible_keys)\n\u001b[1;32m   2132\u001b[0m         \u001b[39massert\u001b[39;00m out \u001b[39mis\u001b[39;00m \u001b[39mNone\u001b[39;00m, (\n\u001b[1;32m   2133\u001b[0m             \u001b[39m\"\u001b[39m\u001b[39mHooks registered with ``register_load_state_dict_post_hook`` are not\u001b[39m\u001b[39m\"\u001b[39m\n\u001b[1;32m   2134\u001b[0m             \u001b[39m\"\u001b[39m\u001b[39mexpected to return new values, if incompatible_keys need to be modified,\u001b[39m\u001b[39m\"\u001b[39m\n\u001b[1;32m   2135\u001b[0m             \u001b[39m\"\u001b[39m\u001b[39mit should be done inplace.\u001b[39m\u001b[39m\"\u001b[39m\n\u001b[1;32m   2136\u001b[0m         )\n\u001b[0;32m-> 2138\u001b[0m load(\u001b[39mself\u001b[39;49m, state_dict)\n\u001b[1;32m   2139\u001b[0m \u001b[39mdel\u001b[39;00m load\n\u001b[1;32m   2141\u001b[0m \u001b[39mif\u001b[39;00m strict:\n",
      "File \u001b[0;32m~/anaconda3/lib/python3.11/site-packages/torch/nn/modules/module.py:2126\u001b[0m, in \u001b[0;36mModule.load_state_dict.<locals>.load\u001b[0;34m(module, local_state_dict, prefix)\u001b[0m\n\u001b[1;32m   2124\u001b[0m         child_prefix \u001b[39m=\u001b[39m prefix \u001b[39m+\u001b[39m name \u001b[39m+\u001b[39m \u001b[39m'\u001b[39m\u001b[39m.\u001b[39m\u001b[39m'\u001b[39m\n\u001b[1;32m   2125\u001b[0m         child_state_dict \u001b[39m=\u001b[39m {k: v \u001b[39mfor\u001b[39;00m k, v \u001b[39min\u001b[39;00m local_state_dict\u001b[39m.\u001b[39mitems() \u001b[39mif\u001b[39;00m k\u001b[39m.\u001b[39mstartswith(child_prefix)}\n\u001b[0;32m-> 2126\u001b[0m         load(child, child_state_dict, child_prefix)\n\u001b[1;32m   2128\u001b[0m \u001b[39m# Note that the hook can modify missing_keys and unexpected_keys.\u001b[39;00m\n\u001b[1;32m   2129\u001b[0m incompatible_keys \u001b[39m=\u001b[39m _IncompatibleKeys(missing_keys, unexpected_keys)\n",
      "File \u001b[0;32m~/anaconda3/lib/python3.11/site-packages/torch/nn/modules/module.py:2120\u001b[0m, in \u001b[0;36mModule.load_state_dict.<locals>.load\u001b[0;34m(module, local_state_dict, prefix)\u001b[0m\n\u001b[1;32m   2118\u001b[0m \u001b[39mif\u001b[39;00m assign:\n\u001b[1;32m   2119\u001b[0m     local_metadata[\u001b[39m'\u001b[39m\u001b[39massign_to_params_buffers\u001b[39m\u001b[39m'\u001b[39m] \u001b[39m=\u001b[39m assign\n\u001b[0;32m-> 2120\u001b[0m module\u001b[39m.\u001b[39;49m_load_from_state_dict(\n\u001b[1;32m   2121\u001b[0m     local_state_dict, prefix, local_metadata, \u001b[39mTrue\u001b[39;49;00m, missing_keys, unexpected_keys, error_msgs)\n\u001b[1;32m   2122\u001b[0m \u001b[39mfor\u001b[39;00m name, child \u001b[39min\u001b[39;00m module\u001b[39m.\u001b[39m_modules\u001b[39m.\u001b[39mitems():\n\u001b[1;32m   2123\u001b[0m     \u001b[39mif\u001b[39;00m child \u001b[39mis\u001b[39;00m \u001b[39mnot\u001b[39;00m \u001b[39mNone\u001b[39;00m:\n",
      "File \u001b[0;32m~/anaconda3/lib/python3.11/site-packages/torch/nn/modules/module.py:2040\u001b[0m, in \u001b[0;36mModule._load_from_state_dict\u001b[0;34m(self, state_dict, prefix, local_metadata, strict, missing_keys, unexpected_keys, error_msgs)\u001b[0m\n\u001b[1;32m   2038\u001b[0m                 \u001b[39msetattr\u001b[39m(\u001b[39mself\u001b[39m, name, input_param)\n\u001b[1;32m   2039\u001b[0m         \u001b[39melse\u001b[39;00m:\n\u001b[0;32m-> 2040\u001b[0m             param\u001b[39m.\u001b[39;49mcopy_(input_param)\n\u001b[1;32m   2041\u001b[0m \u001b[39mexcept\u001b[39;00m \u001b[39mException\u001b[39;00m \u001b[39mas\u001b[39;00m ex:\n\u001b[1;32m   2042\u001b[0m     error_msgs\u001b[39m.\u001b[39mappend(\u001b[39mf\u001b[39m\u001b[39m'\u001b[39m\u001b[39mWhile copying the parameter named \u001b[39m\u001b[39m\"\u001b[39m\u001b[39m{\u001b[39;00mkey\u001b[39m}\u001b[39;00m\u001b[39m\"\u001b[39m\u001b[39m, \u001b[39m\u001b[39m'\u001b[39m\n\u001b[1;32m   2043\u001b[0m                       \u001b[39mf\u001b[39m\u001b[39m'\u001b[39m\u001b[39mwhose dimensions in the model are \u001b[39m\u001b[39m{\u001b[39;00mparam\u001b[39m.\u001b[39msize()\u001b[39m}\u001b[39;00m\u001b[39m and \u001b[39m\u001b[39m'\u001b[39m\n\u001b[1;32m   2044\u001b[0m                       \u001b[39mf\u001b[39m\u001b[39m'\u001b[39m\u001b[39mwhose dimensions in the checkpoint are \u001b[39m\u001b[39m{\u001b[39;00minput_param\u001b[39m.\u001b[39msize()\u001b[39m}\u001b[39;00m\u001b[39m, \u001b[39m\u001b[39m'\u001b[39m\n\u001b[1;32m   2045\u001b[0m                       \u001b[39mf\u001b[39m\u001b[39m'\u001b[39m\u001b[39man exception occurred : \u001b[39m\u001b[39m{\u001b[39;00mex\u001b[39m.\u001b[39margs\u001b[39m}\u001b[39;00m\u001b[39m.\u001b[39m\u001b[39m'\u001b[39m\n\u001b[1;32m   2046\u001b[0m                       )\n",
      "\u001b[0;31mKeyboardInterrupt\u001b[0m: "
     ]
    }
   ],
   "source": [
    "class DQN  (nn.Module):\n",
    "    def __init__(self, n_observations, n_actions):\n",
    "        super(DQN, self).__init__()\n",
    "\n",
    "        self.Rlayer1 = nn.Linear(10,20)\n",
    "        self.Rlayer2 = nn.Linear(20,128)\n",
    "\n",
    "        self.layer1 = nn.Linear(n_observations, 128)\n",
    "        self.layer2 = nn.Linear(128, 128)\n",
    "        self.layer3  = nn.Linear(128,128)\n",
    "        self.layer4 = nn.Linear(128, n_actions)\n",
    "    def forward(self, x):\n",
    "    # Called with either one element to determine next action, or a batch\n",
    "    # during optimization. Returns tensor([[left0exp,right0exp]...]).\n",
    "        r = F.relu(self.Rlayer1(torch.randn(1,10).to(device)))\n",
    "        r = F.relu(self.Rlayer2(r))\n",
    "        x = F.relu(self.layer1(x))\n",
    "        x = F.relu(self.layer2(x))\n",
    "\n",
    "        x = x * r\n",
    "\n",
    "        x = F.relu(self.layer3(x))\n",
    "\n",
    "\n",
    "        return self.layer4(x)\n",
    "    \n",
    "\n",
    "num_episodes = 4000\n",
    "\n",
    "\n",
    "episode_durations = []\n",
    "\n",
    "# Get number of actions from gym action space\n",
    "# sell, close, hold, buy\n",
    "n_actions = env.action_space.n\n",
    "\n",
    "#  Get the number of state observations\n",
    "state, info = env.reset()\n",
    "n_observations = len(state) \n",
    "\n",
    "policy_net = DQN(n_observations, n_actions).to(device)\n",
    "target_net = DQN(n_observations, n_actions).to(device) \n",
    "target_net.load_state_dict(policy_net.state_dict())\n",
    "\n",
    "optimizer = torch.optim.AdamW(policy_net.parameters(), lr=LR, amsgrad=True)\n",
    "memory = ReplayMemory(10000)\n",
    "\n",
    "steps_done = 0\n",
    "\n",
    "# if torch.cuda.is_available():\n",
    "#     num_episodes = 40\n",
    "# else:\n",
    "#     num_episodes = 60\n",
    "\n",
    "\n",
    "arr_preformance = []\n",
    "episode_durations = []\n",
    "for i_episode in tqdm(range(num_episodes)):\n",
    "    # Initialize the environment and get it's state\n",
    " \n",
    "    state, info = env.reset(random_start=True)\n",
    "    state = torch.tensor(state, dtype=torch.float32, device=device).unsqueeze(0)\n",
    "    \n",
    "    start_idx = env.idx\n",
    "\n",
    "    for t in count():\n",
    "    \n",
    "        action = select_action(state)\n",
    "        \n",
    "        # 0 -> hold, 1 -> buy, 2 -> sell, 3 -> close, \n",
    "        \n",
    "        observation, reward, terminated, truncated= env.step(action)\n",
    "        \n",
    "        reward = torch.tensor([reward], device=device)\n",
    "        done = terminated or truncated\n",
    "\n",
    "        \n",
    "\n",
    "        if terminated:\n",
    "            next_state = None\n",
    "        else:\n",
    "            next_state = torch.tensor(observation, dtype=torch.float32, device=device).unsqueeze(0)\n",
    "\n",
    "        # Store the transition in memory\n",
    "        memory.push(state, action, next_state, reward)\n",
    "\n",
    "        # Move to the next state\n",
    "        state = next_state\n",
    "\n",
    "        # Perform one step of the optimization (on the policy network)\n",
    "        optimize_model()\n",
    "        \n",
    "\n",
    "        # Soft update of the target network's weights\n",
    "        # θ′ ← τ θ + (1 −τ )θ′\n",
    "        target_net_state_dict = target_net.state_dict()\n",
    "        policy_net_state_dict = policy_net.state_dict()\n",
    "        for key in policy_net_state_dict:\n",
    "            target_net_state_dict[key] = policy_net_state_dict[key] * TAU + target_net_state_dict[key] * (1 - TAU)\n",
    "        target_net.load_state_dict(target_net_state_dict)\n",
    "\n",
    "        if done:\n",
    "            episode_durations.append(start_idx - env.idx + 1)\n",
    "            arr_preformance.append(env.avali)\n",
    "            steps_done = 0\n",
    "            break\n",
    "\n",
    "\n",
    "fig = plt.figure(figsize=(10,10))\n",
    "\n",
    "fig.add_subplot(3,3,1)\n",
    "plt.title(\"Preformance\")\n",
    "plt.plot(arr_preformance)\n",
    "\n",
    "\n",
    "fig.add_subplot(3,3,2)\n",
    "plt.title(\"Duration (idx)\")\n",
    "plt.plot(episode_durations)\n",
    "env.reset()\n"
   ]
  },
  {
   "cell_type": "code",
   "execution_count": 7,
   "id": "a4b5cbe4",
   "metadata": {},
   "outputs": [
    {
     "name": "stdout",
     "output_type": "stream",
     "text": [
      "292.64996284709554\n",
      "292.64996284709554\n"
     ]
    }
   ],
   "source": [
    "q = np.array(arr_preformance)\n",
    "\n",
    "print(q.mean())\n",
    "q[q > 10000] = 1000\n",
    "\n",
    "\n",
    "print(q.mean())"
   ]
  },
  {
   "cell_type": "code",
   "execution_count": 5,
   "id": "e14ce6ce",
   "metadata": {},
   "outputs": [
    {
     "data": {
      "text/plain": [
       "[<matplotlib.lines.Line2D at 0x7f4b342ea150>]"
      ]
     },
     "execution_count": 5,
     "metadata": {},
     "output_type": "execute_result"
    },
    {
     "data": {
      "image/png": "[encoded data removed]",
      "text/plain": [
       "<Figure size 1000x1000 with 2 Axes>"
      ]
     },
     "metadata": {},
     "output_type": "display_data"
    }
   ],
   "source": [
    "_state, info  = env.reset()\n",
    "\n",
    "fig = plt.figure(figsize=(10,10))\n",
    "\n",
    "arr_preformance = np.array(arr_preformance)\n",
    "\n",
    "arr_preformance[arr_preformance > 10000] = 1000\n",
    "\n",
    "fig.add_subplot(3,3,1)\n",
    "plt.title(\"Preformance\")\n",
    "plt.plot(arr_preformance)\n",
    "\n",
    "\n",
    "fig.add_subplot(3,3,2)\n",
    "plt.title(\"Duration (idx)\")\n",
    "plt.plot(episode_durations)"
   ]
  },
  {
   "cell_type": "code",
   "execution_count": null,
   "id": "81c621b9",
   "metadata": {},
   "outputs": [
    {
     "data": {
      "text/plain": [
       "(array([1.20049465, 1.20759821, 1.19970238, 1.20339835, 1.20339835]),\n",
       " 201,\n",
       " array([0.8373385 , 0.92339444, 0.8405065 , 0.8337036 ], dtype=float32))"
      ]
     },
     "execution_count": 189,
     "metadata": {},
     "output_type": "execute_result"
    },
    {
     "data": {
      "image/png": "[encoded data removed]",
      "text/plain": [
       "<Figure size 640x480 with 1 Axes>"
      ]
     },
     "metadata": {},
     "output_type": "display_data"
    }
   ],
   "source": [
    "# env.reset()\n",
    "\n",
    "if env.idx > 1000:\n",
    "    \n",
    "    env.reset()\n",
    "\n",
    "_state,b,done,c = env.step(0,100)\n",
    "\n",
    "\n",
    "# with torch.no_grad():\n",
    "#     for i in range(len(env)):\n",
    "        \n",
    "        \n",
    "#         pred = policy_net(torch.tensor(_state).to(device).type(torch.float))\n",
    "\n",
    "pred = target_net(torch.tensor(_state).to(device).type(torch.float)).sigmoid()\n",
    "\n",
    "\n",
    "\n",
    "\n",
    "act =  (pred).detach().cpu().numpy()\n",
    "\n",
    "plt.bar([1,2,3,4],act)\n",
    "\n",
    "_state, env.idx, act\n"
   ]
  },
  {
   "cell_type": "code",
   "execution_count": null,
   "id": "df6c22ca",
   "metadata": {},
   "outputs": [
    {
     "data": {
      "text/plain": [
       "array([1.25900185, 1.26079559, 1.24739599, 1.25819397, 1.25819397])"
      ]
     },
     "execution_count": 97,
     "metadata": {},
     "output_type": "execute_result"
    }
   ],
   "source": [
    "a,b,c,d = env.step(0)\n",
    "\n",
    "a\n"
   ]
  },
  {
   "cell_type": "code",
   "execution_count": null,
   "metadata": {},
   "outputs": [
    {
     "ename": "NameError",
     "evalue": "name 'nn' is not defined",
     "output_type": "error",
     "traceback": [
      "\u001b[0;31m---------------------------------------------------------------------------\u001b[0m",
      "\u001b[0;31mNameError\u001b[0m                                 Traceback (most recent call last)",
      "\u001b[1;32m/home/kl/mycode/GitHub/Uwu/Forex/main_forex_RL.ipynb Cell 9\u001b[0m line \u001b[0;36m1\n\u001b[0;32m----> <a href='vscode-notebook-cell://ssh-remote%2B169.236.95.202/home/kl/mycode/GitHub/Uwu/Forex/main_forex_RL.ipynb#X11sdnNjb2RlLXJlbW90ZQ%3D%3D?line=0'>1</a>\u001b[0m \u001b[39mclass\u001b[39;00m \u001b[39mDQN\u001b[39;00m  (nn\u001b[39m.\u001b[39mModule):\n\u001b[1;32m      <a href='vscode-notebook-cell://ssh-remote%2B169.236.95.202/home/kl/mycode/GitHub/Uwu/Forex/main_forex_RL.ipynb#X11sdnNjb2RlLXJlbW90ZQ%3D%3D?line=1'>2</a>\u001b[0m     \u001b[39mdef\u001b[39;00m \u001b[39m__init__\u001b[39m(\u001b[39mself\u001b[39m, n_observations, n_actions):\n\u001b[1;32m      <a href='vscode-notebook-cell://ssh-remote%2B169.236.95.202/home/kl/mycode/GitHub/Uwu/Forex/main_forex_RL.ipynb#X11sdnNjb2RlLXJlbW90ZQ%3D%3D?line=2'>3</a>\u001b[0m         \u001b[39msuper\u001b[39m(DQN, \u001b[39mself\u001b[39m)\u001b[39m.\u001b[39m\u001b[39m__init__\u001b[39m()\n",
      "\u001b[0;31mNameError\u001b[0m: name 'nn' is not defined"
     ]
    }
   ],
   "source": [
    "class DQN  (nn.Module):\n",
    "    def __init__(self, n_observations, n_actions):\n",
    "        super(DQN, self).__init__()\n",
    "\n",
    "        self.Rlayer1 = nn.Linear(10,20)\n",
    "        self.Rlayer2 = nn.Linear(20,128)\n",
    "\n",
    "        self.layer1 = nn.Linear(n_observations, 128)\n",
    "        self.layer2 = nn.Linear(128, 128)\n",
    "        self.layer3  = nn.Linear(128,128)\n",
    "        self.layer4 = nn.Linear(128, n_actions)\n",
    "    def forward(self, x):\n",
    "    # Called with either one element to determine next action, or a batch\n",
    "    # during optimization. Returns tensor([[left0exp,right0exp]...]).\n",
    "        r = F.relu(self.Rlayer1(torch.randn(10, device=device)))\n",
    "        r = F.relu(self.Rlayer2(r))\n",
    "\n",
    "        x = F.relu(self.layer1(x))\n",
    "        # x = x* 2\n",
    "        # print(x)\n",
    "        x = F.relu(self.layer2(x))\n",
    "\n",
    "        x = x * r\n",
    "\n",
    "        x = F.relu(self.layer3(x))\n",
    "        print(x)\n",
    "\n",
    "        return 1#x\n",
    "\n",
    "\n",
    "temp = DQN(4,4).to(device)\n",
    "\n",
    "\n",
    "rt = torch.randn(4).to(device)\n",
    "\n",
    "temp(rt)\n"
   ]
  },
  {
   "cell_type": "code",
   "execution_count": null,
   "metadata": {},
   "outputs": [
    {
     "data": {
      "text/plain": [
       "0.5252861486032403"
      ]
     },
     "execution_count": 17,
     "metadata": {},
     "output_type": "execute_result"
    }
   ],
   "source": [
    "random.random()"
   ]
  }
 ],
 "metadata": {
  "kernelspec": {
   "display_name": "base",
   "language": "python",
   "name": "python3"
  },
  "language_info": {
   "codemirror_mode": {
    "name": "ipython",
    "version": 3
   },
   "file_extension": ".py",
   "mimetype": "text/x-python",
   "name": "python",
   "nbconvert_exporter": "python",
   "pygments_lexer": "ipython3",
   "version": "3.11.5"
  }
 },
 "nbformat": 4,
 "nbformat_minor": 5
}
