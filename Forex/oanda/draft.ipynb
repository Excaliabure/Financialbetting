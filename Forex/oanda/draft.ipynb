{
 "cells": [
  {
   "cell_type": "code",
   "execution_count": 1,
   "metadata": {},
   "outputs": [
    {
     "name": "stdout",
     "output_type": "stream",
     "text": [
      "Started at 1735053273.1828\n",
      "\n",
      "\n",
      "\n"
     ]
    }
   ],
   "source": [
    "\n",
    "\n",
    "from forex import *\n",
    "from algos import * \n",
    "from oandapyV20.contrib.requests import MarketOrderRequest\n",
    "from oandapyV20.endpoints.pricing import PricingStream\n",
    "import oandapyV20\n",
    "import oandapyV20.endpoints.instruments as instruments\n",
    "import os\n",
    "import time\n",
    "import random\n",
    "from utils import *\n",
    "from datetime import datetime\n",
    "from algos import fify_fify\n",
    "\n",
    "from matplotlib.pyplot import *\n",
    "# import matplotlib.pyplot as plt\n",
    "\n",
    "\n",
    "# Initialize the API client\n",
    "env = ForexApi(\"AUD_USD\")\n",
    "# test_client = env.api\n",
    "a = forex()\n",
    "\n",
    "# env.update_history()\n",
    "env.log_info(log_off=True)\n",
    "start_time, settings = start(log_off=True)\n",
    "print(\"\\n\")\n",
    "\n"
   ]
  },
  {
   "cell_type": "code",
   "execution_count": 2,
   "metadata": {},
   "outputs": [
    {
     "name": "stdout",
     "output_type": "stream",
     "text": [
      "Started at 1735053273.2016\n",
      "\n",
      "\n",
      "\n",
      "Put a Sell position on EUR_USD\n",
      "No sell/buy position for EUR_USD. Attempting...\n",
      "Put a Sell position on EUR_USD with deriv = 2.7735989255317506e-05\n"
     ]
    },
    {
     "ename": "KeyboardInterrupt",
     "evalue": "",
     "output_type": "error",
     "traceback": [
      "\u001b[1;31m---------------------------------------------------------------------------\u001b[0m",
      "\u001b[1;31mKeyboardInterrupt\u001b[0m                         Traceback (most recent call last)",
      "Cell \u001b[1;32mIn[2], line 8\u001b[0m\n\u001b[0;32m      3\u001b[0m \u001b[38;5;28mprint\u001b[39m(\u001b[38;5;124m\"\u001b[39m\u001b[38;5;130;01m\\n\u001b[39;00m\u001b[38;5;124m\"\u001b[39m)\n\u001b[0;32m      5\u001b[0m \u001b[38;5;66;03m##### Start of Logic #####\u001b[39;00m\n\u001b[1;32m----> 8\u001b[0m y,dy,ddy \u001b[38;5;241m=\u001b[39m \u001b[43malgo_deriv\u001b[49m\u001b[43m(\u001b[49m\u001b[43menv\u001b[49m\u001b[43m,\u001b[49m\u001b[43msettings\u001b[49m\u001b[43m,\u001b[49m\u001b[43mstart_time\u001b[49m\u001b[43m)\u001b[49m\n\u001b[0;32m     12\u001b[0m \u001b[38;5;66;03m# update the pair\u001b[39;00m\n\u001b[0;32m     13\u001b[0m \u001b[38;5;66;03m##### End of Logic #####\u001b[39;00m\n\u001b[0;32m     14\u001b[0m \n\u001b[0;32m     15\u001b[0m \u001b[38;5;66;03m# env.close_all()\u001b[39;00m\n\u001b[0;32m     16\u001b[0m \u001b[38;5;66;03m# end(start_time, log_off=True)\u001b[39;00m\n",
      "File \u001b[1;32mg:\\Github\\Financialbetting\\Forex\\oanda\\algos.py:196\u001b[0m, in \u001b[0;36malgo_deriv\u001b[1;34m(env, settings, start_time, ret_derivs)\u001b[0m\n\u001b[0;32m    191\u001b[0m         \u001b[38;5;28mprint\u001b[39m(\u001b[38;5;124mf\u001b[39m\u001b[38;5;124m\"\u001b[39m\u001b[38;5;124mPut a \u001b[39m\u001b[38;5;132;01m{\u001b[39;00m\u001b[38;5;124m'\u001b[39m\u001b[38;5;124mSell\u001b[39m\u001b[38;5;124m'\u001b[39m\u001b[38;5;250m \u001b[39m\u001b[38;5;28;01mif\u001b[39;00m\u001b[38;5;250m \u001b[39mhold_position\u001b[38;5;250m \u001b[39m\u001b[38;5;241m==\u001b[39m\u001b[38;5;250m \u001b[39m\u001b[38;5;241m-\u001b[39m\u001b[38;5;241m1\u001b[39m\u001b[38;5;250m \u001b[39m\u001b[38;5;28;01melse\u001b[39;00m\u001b[38;5;250m \u001b[39m\u001b[38;5;124m'\u001b[39m\u001b[38;5;124mBuy\u001b[39m\u001b[38;5;124m'\u001b[39m\u001b[38;5;132;01m}\u001b[39;00m\u001b[38;5;124m position on \u001b[39m\u001b[38;5;132;01m{\u001b[39;00mpair\u001b[38;5;132;01m}\u001b[39;00m\u001b[38;5;124m with deriv = \u001b[39m\u001b[38;5;132;01m{\u001b[39;00mddy[\u001b[38;5;241m-\u001b[39m\u001b[38;5;241m1\u001b[39m]\u001b[38;5;132;01m}\u001b[39;00m\u001b[38;5;124m\"\u001b[39m)\n\u001b[0;32m    194\u001b[0m     c \u001b[38;5;241m+\u001b[39m\u001b[38;5;241m=\u001b[39m \u001b[38;5;241m1\u001b[39m\n\u001b[1;32m--> 196\u001b[0m \u001b[43mtime\u001b[49m\u001b[38;5;241;43m.\u001b[39;49m\u001b[43msleep\u001b[49m\u001b[43m(\u001b[49m\u001b[38;5;241;43m7.5\u001b[39;49m\u001b[43m)\u001b[49m\n",
      "\u001b[1;31mKeyboardInterrupt\u001b[0m: "
     ]
    }
   ],
   "source": [
    "\n",
    "env.log_info(log_off=True)\n",
    "start_time, settings = start(log_off=True)\n",
    "print(\"\\n\")\n",
    "\n",
    "##### Start of Logic #####\n",
    "\n",
    "\n",
    "y,dy,ddy = algo_deriv(env,settings,start_time)\n",
    "\n",
    "\n",
    "\n",
    "# update the pair\n",
    "##### End of Logic #####\n",
    "\n",
    "# env.close_all()\n",
    "# end(start_time, log_off=True)\n"
   ]
  },
  {
   "cell_type": "code",
   "execution_count": null,
   "metadata": {},
   "outputs": [],
   "source": [
    "env.view('EUR_USD')"
   ]
  },
  {
   "cell_type": "code",
   "execution_count": null,
   "metadata": {},
   "outputs": [
    {
     "ename": "NameError",
     "evalue": "name 'arr' is not defined",
     "output_type": "error",
     "traceback": [
      "\u001b[1;31m---------------------------------------------------------------------------\u001b[0m",
      "\u001b[1;31mNameError\u001b[0m                                 Traceback (most recent call last)",
      "Cell \u001b[1;32mIn[3], line 1\u001b[0m\n\u001b[1;32m----> 1\u001b[0m y \u001b[38;5;241m=\u001b[39m \u001b[43marr\u001b[49m\n\u001b[0;32m      2\u001b[0m \u001b[38;5;66;03m# plt.plot(arr) # truth\u001b[39;00m\n\u001b[0;32m      4\u001b[0m narr \u001b[38;5;241m=\u001b[39m np\u001b[38;5;241m.\u001b[39mzeros((\u001b[38;5;28mlen\u001b[39m(arr),\u001b[38;5;28mlen\u001b[39m(arr)))\n",
      "\u001b[1;31mNameError\u001b[0m: name 'arr' is not defined"
     ]
    }
   ],
   "source": [
    "\n",
    "\n",
    "\n",
    "y = arr\n",
    "# plt.plot(arr) # truth\n",
    "\n",
    "narr = np.zeros((len(arr),len(arr)))\n",
    "darr = deriv(arr).reshape(len(arr),1)\n",
    "\n",
    "\n"
   ]
  },
  {
   "cell_type": "code",
   "execution_count": null,
   "metadata": {},
   "outputs": [],
   "source": []
  },
  {
   "cell_type": "markdown",
   "metadata": {},
   "source": []
  },
  {
   "cell_type": "code",
   "execution_count": null,
   "metadata": {},
   "outputs": [
    {
     "ename": "NameError",
     "evalue": "name 'sl' is not defined",
     "output_type": "error",
     "traceback": [
      "\u001b[1;31m---------------------------------------------------------------------------\u001b[0m",
      "\u001b[1;31mNameError\u001b[0m                                 Traceback (most recent call last)",
      "Cell \u001b[1;32mIn[28], line 1\u001b[0m\n\u001b[1;32m----> 1\u001b[0m sline \u001b[38;5;241m=\u001b[39m \u001b[43msl\u001b[49m\n\u001b[0;32m      2\u001b[0m mline \u001b[38;5;241m=\u001b[39m ml\n\u001b[0;32m      4\u001b[0m plt_amt \u001b[38;5;241m=\u001b[39m \u001b[38;5;241m5\u001b[39m\n",
      "\u001b[1;31mNameError\u001b[0m: name 'sl' is not defined"
     ]
    }
   ],
   "source": [
    "\n",
    "sline = sl\n",
    "mline = ml\n",
    "\n",
    "plt_amt = 5\n",
    "\n",
    "fig = plt.figure(figsize=(10,7))\n",
    "\n",
    "\n",
    "fig.add_subplot(2,2,1)\n",
    "plot(ld[-plt_amt:],label=\"Long\")\n",
    "plot(sd[-plt_amt:],label=\"Short\")\n",
    "title(\"EMA\")\n",
    "legend()\n",
    "\n",
    "fig.add_subplot(2,2,2)\n",
    "plot(deriv(ld)[-plt_amt:], label=\"Long\")\n",
    "plot(deriv(sd)[-plt_amt:], label=\"Short\")\n",
    "title(\"Deriv EMA\")\n",
    "legend()\n",
    "\n",
    "fig.add_subplot(2,2,3)\n",
    "plot(sline[-plt_amt:],label=\"Sline\")\n",
    "plot(mline[-plt_amt:],label=\"Mline\")\n",
    "title(\"MACD\")\n",
    "legend()\n",
    "\n",
    "fig.add_subplot(2,2,4)\n",
    "plot(deriv(sline)[-plt_amt:],label=\"Sline\")\n",
    "plot(deriv(mline)[-plt_amt:],label=\"Mline\")\n",
    "title(\"Deriv MACD\")\n",
    "legend()\n",
    "\n",
    "\n"
   ]
  },
  {
   "cell_type": "code",
   "execution_count": null,
   "metadata": {},
   "outputs": [
    {
     "name": "stdout",
     "output_type": "stream",
     "text": [
      "0.005926541390719908\n"
     ]
    }
   ],
   "source": [
    "cm = sm - lm\n",
    "\n",
    "# We are looking for short\n",
    "# c = s - l\n",
    "\n",
    "\n",
    "\n",
    "\n",
    "a = \"\"\"\n",
    "x = s\n",
    "dx = deriv(s)\n",
    "\n",
    "position buy/sell\n",
    "\n",
    "\n",
    "if sum(dx) > 0 and buy:\n",
    "    hold\n",
    "    \n",
    "elif sum dx is neg and pos :\n",
    "    sell\n",
    "\n",
    "\n",
    "\n",
    "\"\"\"\n",
    "\n",
    "\n",
    "s = sum(deriv(ld[20:]))\n",
    "\n",
    "pos = 1\n",
    "\n",
    "if (s >= 0 and pos == 1) or (s < 0 and pos == -1):\n",
    "    \"hold\"\n",
    "elif (s >= 0 and pos != 1) or (s < 0 and pos != -1):\n",
    "    \"close\"\n",
    "    # switch\n",
    "    # buy/sell\n",
    "\n",
    "# plot(deriv(ld[20:]),'g',label=\"Longd\")\n",
    "\n",
    "# # plot(deriv(sd),'r',label=\"Short\")\n",
    "\n",
    "# figure(2)\n",
    "# plot(ld[20:],'g')\n",
    "# plot(sd[20:],'r')"
   ]
  },
  {
   "cell_type": "code",
   "execution_count": null,
   "metadata": {},
   "outputs": [
    {
     "data": {
      "text/plain": [
       "<matplotlib.legend.Legend at 0x254b8eb8680>"
      ]
     },
     "execution_count": 48,
     "metadata": {},
     "output_type": "execute_result"
    },
    {
     "data": {
      "image/png": "[encoded data removed]",
      "text/plain": [
       "<Figure size 640x480 with 1 Axes>"
      ]
     },
     "metadata": {},
     "output_type": "display_data"
    }
   ],
   "source": [
    "from matplotlib.pyplot import plot, legend\n",
    "from forex import forex\n",
    "f = forex(\"EURUSD\")\n",
    "\n",
    "plot(lh,label=\"Long\")\n",
    "plot(sh,label=\"Short\")\n",
    "legend()\n",
    "\n",
    "\n"
   ]
  },
  {
   "cell_type": "markdown",
   "metadata": {},
   "source": [
    "# Forex\n"
   ]
  },
  {
   "cell_type": "code",
   "execution_count": null,
   "metadata": {},
   "outputs": [],
   "source": [
    "fenv = forex()\n",
    "\n",
    "arr = fenv.min[\"Close\"].to_numpy()\n",
    "\n",
    "# l,s,c = calculate_ema_cross(arr)\n",
    "l,s,c = calculate_macd(arr)\n",
    "c[c<=0] = -1\n",
    "c[c>0] = 1\n",
    "\n",
    "observ_space = np.vstack((arr,l,s))\n",
    "\n"
   ]
  },
  {
   "cell_type": "markdown",
   "metadata": {},
   "source": [
    "# RL part"
   ]
  },
  {
   "cell_type": "code",
   "execution_count": null,
   "metadata": {},
   "outputs": [],
   "source": [
    "import gym\n",
    "from gym import spaces\n",
    "import numpy as np\n",
    "from ray.rllib.env import MultiAgentEnv\n",
    "import yaml\n",
    "\n",
    "class CustomEnvironment(MultiAgentEnv):\n",
    "    def __init__(self, config=\"RL_config.yaml\"):\n",
    "        \n",
    "        settings = yaml.load(open(config),Loader=yaml.SafeLoader)\n",
    "\n",
    "        fenv = forex()\n",
    "        arr = fenv.min[\"Close\"].to_numpy()\n",
    "        l,s,c = calculate_macd(arr)\n",
    "        c[c<=0] = -1\n",
    "        c[c>0] = 1\n",
    "\n",
    "        observ_space = np.vstack((arr,l,s))\n",
    "        \n",
    "        # Define your environment's parameters and configurations here\n",
    "        self.observation_space = spaces.Box(low=0, high=1, shape=(...,))\n",
    "        self.action_space = spaces.Discrete(...)\n",
    "        # Initialize any other variables or components needed\n",
    "\n",
    "    def reset(self):\n",
    "        # Reset the environment to its initial state and return the initial observation\n",
    "        return np.zeros(...)\n",
    "\n",
    "    def step(self, action):\n",
    "        # Take a step in the environment based on the given action\n",
    "        # Calculate the next state, reward, done flag, and info dictionary\n",
    "        next_observation = np.zeros(...)\n",
    "        reward = 0\n",
    "        done = False\n",
    "        info = {}\n",
    "        return next_observation, reward, done, info\n",
    "\n",
    "    def render(self, mode='human'):\n",
    "        # Render the environment for visualization (optional)\n",
    "        pass\n",
    "\n",
    "    def close(self):\n",
    "        # Clean up resources or do any necessary cleanup (optional)\n",
    "        pass\n"
   ]
  },
  {
   "cell_type": "code",
   "execution_count": null,
   "metadata": {},
   "outputs": [
    {
     "data": {
      "text/plain": [
       "{'test': 1}"
      ]
     },
     "execution_count": 16,
     "metadata": {},
     "output_type": "execute_result"
    }
   ],
   "source": [
    "import yaml\n",
    "\n",
    "\n"
   ]
  },
  {
   "cell_type": "markdown",
   "metadata": {},
   "source": [
    "# ML part\n",
    "\n",
    "Idea\n",
    "* Get the model to recognize inflection points and act accordingly\n"
   ]
  },
  {
   "cell_type": "code",
   "execution_count": null,
   "metadata": {},
   "outputs": [],
   "source": [
    "import torch\n",
    "import torch.nn as nn\n",
    "\n",
    "model = nn.Sequential(\n",
    "    nn.Linear(27,50),\n",
    "    nn.ReLU(),\n",
    "    nn.Linear(50,50),\n",
    "    nn.ReLU(),\n",
    "    nn.Linear(50,1)\n",
    ")\n"
   ]
  },
  {
   "cell_type": "code",
   "execution_count": null,
   "metadata": {},
   "outputs": [
    {
     "data": {
      "text/plain": [
       "Sequential(\n",
       "  (0): Linear(in_features=27, out_features=100, bias=True)\n",
       "  (1): ReLU()\n",
       "  (2): Linear(in_features=100, out_features=5, bias=True)\n",
       ")"
      ]
     },
     "execution_count": 55,
     "metadata": {},
     "output_type": "execute_result"
    }
   ],
   "source": []
  },
  {
   "cell_type": "code",
   "execution_count": null,
   "metadata": {},
   "outputs": [],
   "source": []
  },
  {
   "cell_type": "code",
   "execution_count": null,
   "metadata": {},
   "outputs": [],
   "source": []
  },
  {
   "cell_type": "code",
   "execution_count": null,
   "metadata": {},
   "outputs": [],
   "source": []
  },
  {
   "cell_type": "code",
   "execution_count": null,
   "metadata": {},
   "outputs": [],
   "source": []
  },
  {
   "cell_type": "code",
   "execution_count": null,
   "metadata": {},
   "outputs": [],
   "source": [
    "# from ray.rllib.algorithms.ppo import PPOConfig\n",
    "# from ray.tune.logger import pretty_print\n",
    "\n",
    "\n",
    "# algo = (\n",
    "#     PPOConfig()\n",
    "#     .env_runners(num_env_runners=1)\n",
    "#     .resources(num_gpus=0)\n",
    "#     .environment(env=\"CartPole-v1\")\n",
    "#     .build()\n",
    "# )\n",
    "\n",
    "# print(\"training\")\n",
    "# for i in range(10):\n",
    "#     print(i)\n",
    "#     result = algo.train()\n",
    "#     print(pretty_print(result))\n",
    "\n",
    "#     if i % 5 == 0:\n",
    "#         checkpoint_dir = algo.save().checkpoint.path\n",
    "#         print(f\"Checkpoint saved in directory {checkpoint_dir}\")\n",
    "\n"
   ]
  }
 ],
 "metadata": {
  "kernelspec": {
   "display_name": "Python 3",
   "language": "python",
   "name": "python3"
  },
  "language_info": {
   "codemirror_mode": {
    "name": "ipython",
    "version": 3
   },
   "file_extension": ".py",
   "mimetype": "text/x-python",
   "name": "python",
   "nbconvert_exporter": "python",
   "pygments_lexer": "ipython3",
   "version": "3.10.6"
  }
 },
 "nbformat": 4,
 "nbformat_minor": 2
}
